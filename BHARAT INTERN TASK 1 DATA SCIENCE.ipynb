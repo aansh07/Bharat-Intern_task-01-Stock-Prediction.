{
 "cells": [
  {
   "cell_type": "code",
   "execution_count": 2,
   "id": "aa67fbad",
   "metadata": {},
   "outputs": [],
   "source": [
    "import yfinance as yf\n",
    "import pandas as pd \n",
    "import numpy as np\n",
    "import seaborn as sns \n",
    "import matplotlib.pyplot as plt\n",
    "%matplotlib inline\n",
    "from sklearn.preprocessing import MinMaxScaler\n",
    "from tensorflow.keras.models import Sequential\n",
    "from tensorflow.keras.layers import LSTM, Dense\n",
    "from sklearn.metrics import mean_absolute_error\n",
    "from sklearn.model_selection import train_test_split"
   ]
  },
  {
   "cell_type": "markdown",
   "id": "871ef835",
   "metadata": {},
   "source": [
    "Download Tesla stock price data from Yahoo Finance"
   ]
  },
  {
   "cell_type": "code",
   "execution_count": 5,
   "id": "0afbf5f5",
   "metadata": {},
   "outputs": [
    {
     "name": "stdout",
     "output_type": "stream",
     "text": [
      "[*********************100%%**********************]  1 of 1 completed\n"
     ]
    }
   ],
   "source": [
    "symbol = 'TSLA'\n",
    "data = yf.download(symbol, start='2020-01-01', end='2021-12-31')"
   ]
  },
  {
   "cell_type": "markdown",
   "id": "eea781cd",
   "metadata": {},
   "source": [
    "Extract the 'Close' prices"
   ]
  },
  {
   "cell_type": "code",
   "execution_count": 6,
   "id": "3bd1051d",
   "metadata": {},
   "outputs": [],
   "source": [
    "data = data[['Close']]"
   ]
  },
  {
   "cell_type": "markdown",
   "id": "7558df66",
   "metadata": {},
   "source": [
    " # Normalize the data"
   ]
  },
  {
   "cell_type": "code",
   "execution_count": 7,
   "id": "500bc4c0",
   "metadata": {},
   "outputs": [],
   "source": [
    "scaler = MinMaxScaler()\n",
    "data = scaler.fit_transform(data)"
   ]
  },
  {
   "cell_type": "markdown",
   "id": "1c578564",
   "metadata": {},
   "source": [
    "# Split the data into training and testing sets"
   ]
  },
  {
   "cell_type": "code",
   "execution_count": 8,
   "id": "bca21bc5",
   "metadata": {},
   "outputs": [],
   "source": [
    "train_size = int(len(data) * 0.8)\n",
    "train_data, test_data = data[:train_size], data[train_size:]"
   ]
  },
  {
   "cell_type": "markdown",
   "id": "154e5211",
   "metadata": {},
   "source": [
    "# Create sequences of data for LSTM"
   ]
  },
  {
   "cell_type": "code",
   "execution_count": 9,
   "id": "38f2fc1e",
   "metadata": {},
   "outputs": [],
   "source": [
    "def create_sequences(data, seq_length):\n",
    "    X, y = [], []\n",
    "    for i in range(len(data) - seq_length):\n",
    "        X.append(data[i:i + seq_length])\n",
    "        y.append(data[i + seq_length])\n",
    "    return np.array(X), np.array(y)"
   ]
  },
  {
   "cell_type": "code",
   "execution_count": 10,
   "id": "41cc8cc1",
   "metadata": {},
   "outputs": [],
   "source": [
    "seq_length = 10  # Number of previous days to use for prediction\n",
    "X_train, y_train = create_sequences(train_data, seq_length)\n",
    "X_test, y_test = create_sequences(test_data, seq_length)"
   ]
  },
  {
   "cell_type": "markdown",
   "id": "924cc54f",
   "metadata": {},
   "source": [
    "# Build an LSTM model"
   ]
  },
  {
   "cell_type": "code",
   "execution_count": 11,
   "id": "0a6f9727",
   "metadata": {},
   "outputs": [],
   "source": [
    "model = Sequential()\n",
    "model.add(LSTM(50, activation='relu', input_shape=(seq_length, 1)))\n",
    "model.add(Dense(1))\n",
    "model.compile(optimizer='adam', loss='mean_squared_error')\n"
   ]
  },
  {
   "cell_type": "markdown",
   "id": "4372e8c6",
   "metadata": {},
   "source": [
    "# Train the model"
   ]
  },
  {
   "cell_type": "code",
   "execution_count": 13,
   "id": "d3bb4d10",
   "metadata": {},
   "outputs": [
    {
     "name": "stdout",
     "output_type": "stream",
     "text": [
      "Epoch 1/50\n",
      "13/13 [==============================] - 3s 11ms/step - loss: 0.1399\n",
      "Epoch 2/50\n",
      "13/13 [==============================] - 0s 8ms/step - loss: 0.0572\n",
      "Epoch 3/50\n",
      "13/13 [==============================] - 0s 6ms/step - loss: 0.0158\n",
      "Epoch 4/50\n",
      "13/13 [==============================] - 0s 5ms/step - loss: 0.0113\n",
      "Epoch 5/50\n",
      "13/13 [==============================] - 0s 5ms/step - loss: 0.0077\n",
      "Epoch 6/50\n",
      "13/13 [==============================] - 0s 5ms/step - loss: 0.0046\n",
      "Epoch 7/50\n",
      "13/13 [==============================] - 0s 5ms/step - loss: 0.0025\n",
      "Epoch 8/50\n",
      "13/13 [==============================] - 0s 6ms/step - loss: 0.0016\n",
      "Epoch 9/50\n",
      "13/13 [==============================] - 0s 6ms/step - loss: 0.0014\n",
      "Epoch 10/50\n",
      "13/13 [==============================] - 0s 4ms/step - loss: 0.0012\n",
      "Epoch 11/50\n",
      "13/13 [==============================] - 0s 6ms/step - loss: 0.0012\n",
      "Epoch 12/50\n",
      "13/13 [==============================] - 0s 5ms/step - loss: 0.0011\n",
      "Epoch 13/50\n",
      "13/13 [==============================] - 0s 4ms/step - loss: 0.0011\n",
      "Epoch 14/50\n",
      "13/13 [==============================] - 0s 5ms/step - loss: 0.0011\n",
      "Epoch 15/50\n",
      "13/13 [==============================] - 0s 7ms/step - loss: 0.0011\n",
      "Epoch 16/50\n",
      "13/13 [==============================] - 0s 5ms/step - loss: 0.0010\n",
      "Epoch 17/50\n",
      "13/13 [==============================] - 0s 4ms/step - loss: 0.0010\n",
      "Epoch 18/50\n",
      "13/13 [==============================] - 0s 7ms/step - loss: 0.0010\n",
      "Epoch 19/50\n",
      "13/13 [==============================] - 0s 6ms/step - loss: 9.8613e-04\n",
      "Epoch 20/50\n",
      "13/13 [==============================] - 0s 6ms/step - loss: 9.6940e-04\n",
      "Epoch 21/50\n",
      "13/13 [==============================] - 0s 5ms/step - loss: 9.8704e-04\n",
      "Epoch 22/50\n",
      "13/13 [==============================] - 0s 5ms/step - loss: 0.0010\n",
      "Epoch 23/50\n",
      "13/13 [==============================] - 0s 5ms/step - loss: 0.0010\n",
      "Epoch 24/50\n",
      "13/13 [==============================] - 0s 9ms/step - loss: 0.0010\n",
      "Epoch 25/50\n",
      "13/13 [==============================] - 0s 5ms/step - loss: 9.3712e-04\n",
      "Epoch 26/50\n",
      "13/13 [==============================] - 0s 6ms/step - loss: 9.3936e-04\n",
      "Epoch 27/50\n",
      "13/13 [==============================] - 0s 5ms/step - loss: 9.4585e-04\n",
      "Epoch 28/50\n",
      "13/13 [==============================] - 0s 6ms/step - loss: 9.5156e-04\n",
      "Epoch 29/50\n",
      "13/13 [==============================] - 0s 6ms/step - loss: 9.1133e-04\n",
      "Epoch 30/50\n",
      "13/13 [==============================] - 0s 7ms/step - loss: 9.2836e-04\n",
      "Epoch 31/50\n",
      "13/13 [==============================] - 0s 6ms/step - loss: 9.0825e-04\n",
      "Epoch 32/50\n",
      "13/13 [==============================] - 0s 7ms/step - loss: 9.3034e-04\n",
      "Epoch 33/50\n",
      "13/13 [==============================] - 0s 6ms/step - loss: 9.0127e-04\n",
      "Epoch 34/50\n",
      "13/13 [==============================] - 0s 5ms/step - loss: 9.0447e-04\n",
      "Epoch 35/50\n",
      "13/13 [==============================] - 0s 6ms/step - loss: 9.1482e-04\n",
      "Epoch 36/50\n",
      "13/13 [==============================] - 0s 6ms/step - loss: 9.2151e-04\n",
      "Epoch 37/50\n",
      "13/13 [==============================] - 0s 6ms/step - loss: 9.1071e-04\n",
      "Epoch 38/50\n",
      "13/13 [==============================] - 0s 6ms/step - loss: 8.9766e-04\n",
      "Epoch 39/50\n",
      "13/13 [==============================] - 0s 6ms/step - loss: 9.0114e-04\n",
      "Epoch 40/50\n",
      "13/13 [==============================] - 0s 6ms/step - loss: 8.8058e-04\n",
      "Epoch 41/50\n",
      "13/13 [==============================] - 0s 5ms/step - loss: 8.6173e-04\n",
      "Epoch 42/50\n",
      "13/13 [==============================] - 0s 5ms/step - loss: 8.6936e-04\n",
      "Epoch 43/50\n",
      "13/13 [==============================] - 0s 6ms/step - loss: 9.6801e-04\n",
      "Epoch 44/50\n",
      "13/13 [==============================] - 0s 6ms/step - loss: 8.7383e-04\n",
      "Epoch 45/50\n",
      "13/13 [==============================] - 0s 6ms/step - loss: 8.5178e-04\n",
      "Epoch 46/50\n",
      "13/13 [==============================] - 0s 7ms/step - loss: 8.4700e-04\n",
      "Epoch 47/50\n",
      "13/13 [==============================] - 0s 6ms/step - loss: 8.4315e-04\n",
      "Epoch 48/50\n",
      "13/13 [==============================] - 0s 6ms/step - loss: 8.4374e-04\n",
      "Epoch 49/50\n",
      "13/13 [==============================] - 0s 7ms/step - loss: 8.6260e-04\n",
      "Epoch 50/50\n",
      "13/13 [==============================] - 0s 6ms/step - loss: 8.2549e-04\n"
     ]
    },
    {
     "data": {
      "text/plain": [
       "<keras.src.callbacks.History at 0x22186ea6b10>"
      ]
     },
     "execution_count": 13,
     "metadata": {},
     "output_type": "execute_result"
    }
   ],
   "source": [
    "model.fit(X_train, y_train, epochs=50, batch_size=32)"
   ]
  },
  {
   "cell_type": "markdown",
   "id": "061416eb",
   "metadata": {},
   "source": [
    "# Make predictions"
   ]
  },
  {
   "cell_type": "code",
   "execution_count": 14,
   "id": "433a3707",
   "metadata": {},
   "outputs": [
    {
     "name": "stdout",
     "output_type": "stream",
     "text": [
      "13/13 [==============================] - 0s 3ms/step\n",
      "3/3 [==============================] - 0s 5ms/step\n"
     ]
    }
   ],
   "source": [
    "train_predictions = model.predict(X_train)\n",
    "test_predictions = model.predict(X_test)"
   ]
  },
  {
   "cell_type": "code",
   "execution_count": 15,
   "id": "fe5f9013",
   "metadata": {},
   "outputs": [],
   "source": [
    "# Inverse transform the data to get actual prices\n",
    "train_predictions = scaler.inverse_transform(train_predictions)\n",
    "test_predictions = scaler.inverse_transform(test_predictions)\n",
    "y_train = scaler.inverse_transform(y_train)\n",
    "y_test = scaler.inverse_transform(y_test)"
   ]
  },
  {
   "cell_type": "code",
   "execution_count": 16,
   "id": "3943be54",
   "metadata": {},
   "outputs": [
    {
     "name": "stdout",
     "output_type": "stream",
     "text": [
      "Training MAE: 8.26\n",
      "Testing MAE: 17.26\n"
     ]
    }
   ],
   "source": [
    "# Calculate Mean Absolute Error\n",
    "train_mae = mean_absolute_error(y_train, train_predictions)\n",
    "test_mae = mean_absolute_error(y_test, test_predictions)\n",
    "print(f'Training MAE: {train_mae:.2f}')\n",
    "print(f'Testing MAE: {test_mae:.2f}')\n"
   ]
  },
  {
   "cell_type": "markdown",
   "id": "26dde657",
   "metadata": {},
   "source": [
    "# Visualize the predictions"
   ]
  },
  {
   "cell_type": "code",
   "execution_count": 18,
   "id": "9ff17578",
   "metadata": {},
   "outputs": [
    {
     "data": {
      "image/png": "[encoded data removed]",
      "text/plain": [
       "<Figure size 1200x600 with 1 Axes>"
      ]
     },
     "metadata": {},
     "output_type": "display_data"
    }
   ],
   "source": [
    "plt.figure(figsize=(12, 6))\n",
    "plt.plot(data, label='Actual Prices')\n",
    "plt.plot(range(seq_length, train_size), train_predictions, label='Train Predictions')\n",
    "plt.plot(range(train_size + seq_length, len(data)), test_predictions, label='Test Predictions')\n",
    "plt.legend()\n",
    "plt.show()\n",
    "\n",
    "\n",
    "\n",
    "\n",
    "\n",
    "\n"
   ]
  },
  {
   "cell_type": "code",
   "execution_count": null,
   "id": "1d699d4d",
   "metadata": {},
   "outputs": [],
   "source": []
  }
 ],
 "metadata": {
  "kernelspec": {
   "display_name": "Python 3 (ipykernel)",
   "language": "python",
   "name": "python3"
  },
  "language_info": {
   "codemirror_mode": {
    "name": "ipython",
    "version": 3
   },
   "file_extension": ".py",
   "mimetype": "text/x-python",
   "name": "python",
   "nbconvert_exporter": "python",
   "pygments_lexer": "ipython3",
   "version": "3.11.4"
  }
 },
 "nbformat": 4,
 "nbformat_minor": 5
}
